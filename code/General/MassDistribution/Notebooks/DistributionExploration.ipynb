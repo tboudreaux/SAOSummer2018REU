{
 "cells": [
  {
   "cell_type": "code",
   "execution_count": 2,
   "metadata": {},
   "outputs": [],
   "source": [
    "import numpy as np\n",
    "import pandas as pd\n",
    "import matplotlib.pyplot as plt\n",
    "\n",
    "%matplotlib inline"
   ]
  },
  {
   "cell_type": "code",
   "execution_count": 3,
   "metadata": {},
   "outputs": [],
   "source": [
    "n = 100\n",
    "rc = 100\n",
    "vc = 10\n",
    "\n",
    "minmass = 1\n",
    "maxmass = 10\n",
    "\n",
    "masses = np.random.uniform(minmass, maxmass, n)\n",
    "\n",
    "Rx = np.random.normal(scale=rc, size=(n))\n",
    "Ry = np.random.normal(scale=rc, size=(n))\n",
    "Rz = np.random.normal(scale=rc, size=(n))\n",
    "\n",
    "Vx = np.random.normal(scale=vc, size=(n))\n",
    "Vy = np.random.normal(scale=vc, size=(n))\n",
    "Vz = np.random.normal(scale=vc, size=(n))"
   ]
  },
  {
   "cell_type": "code",
   "execution_count": 4,
   "metadata": {},
   "outputs": [],
   "source": [
    "def write_input_file(filename, mass, r, v, sep=' '):\n",
    "    out = list()\n",
    "    for m, rx, ry, rz, vx, vy, vz in zip(mass, r[0], r[1], r[2], v[0], v[1], v[2]):\n",
    "        out.append(f'{m}{sep}{rx}{sep}{ry}{sep}{rz}{sep}{vx}{sep}{vy}{sep}{vz}')\n",
    "    with open(filename, 'w') as f:\n",
    "        f.write('\\n'.join(out))"
   ]
  },
  {
   "cell_type": "code",
   "execution_count": 7,
   "metadata": {},
   "outputs": [],
   "source": [
    "write_input_file('test.csv', masses, (Rx, Ry, Rz), (Vx, Vy, Vz), sep=' ')"
   ]
  },
  {
   "cell_type": "code",
   "execution_count": null,
   "metadata": {},
   "outputs": [],
   "source": []
  }
 ],
 "metadata": {
  "kernelspec": {
   "display_name": "Python 3",
   "language": "python",
   "name": "python3"
  },
  "language_info": {
   "codemirror_mode": {
    "name": "ipython",
    "version": 3
   },
   "file_extension": ".py",
   "mimetype": "text/x-python",
   "name": "python",
   "nbconvert_exporter": "python",
   "pygments_lexer": "ipython3",
   "version": "3.6.2"
  }
 },
 "nbformat": 4,
 "nbformat_minor": 2
}
