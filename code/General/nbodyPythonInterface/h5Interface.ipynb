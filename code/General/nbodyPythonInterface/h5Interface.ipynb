{
 "cells": [
  {
   "cell_type": "code",
   "execution_count": 4,
   "metadata": {},
   "outputs": [],
   "source": [
    "import h5py\n",
    "import numpy as np\n",
    "import pandas as pd\n",
    "import os\n",
    "import re\n",
    "from IPython.display import display\n",
    "import matplotlib.pyplot as plt\n",
    "\n",
    "%matplotlib inline"
   ]
  },
  {
   "cell_type": "code",
   "execution_count": 5,
   "metadata": {},
   "outputs": [],
   "source": [
    "def tryint(s):\n",
    "    try:\n",
    "        return int(s)\n",
    "    except:\n",
    "        return s\n",
    "     \n",
    "def alphanum_key(s):\n",
    "    return [ tryint(c) for c in re.split('([0-9]+)', s) ]\n",
    "\n",
    "def sort_nicely(l):\n",
    "    l.sort(key=alphanum_key)\n",
    "    return l"
   ]
  },
  {
   "cell_type": "code",
   "execution_count": 63,
   "metadata": {},
   "outputs": [],
   "source": [
    "class nbody_snapshot:\n",
    "    def __init__(self, path):\n",
    "        self.file = self.__read_snapshot__(path)\n",
    "        self.TTOT = int(path.split('/')[-1].split('_')[1].split('.')[0])\n",
    "        self.steps = len(self.file)\n",
    "        self.current_step = 0\n",
    "        self.single_star_data, self.time = self.__get_single_star_data__()\n",
    "        self.center = (self.single_star_data.X1.mean(),\n",
    "                       self.single_star_data.X2.mean(),\n",
    "                       self.single_star_data.X3.mean())\n",
    "    \n",
    "    @staticmethod\n",
    "    def __read_snapshot__(path):\n",
    "        f = h5py.File(path)\n",
    "        return f\n",
    "    \n",
    "    def __get_single_star_data__(self):\n",
    "        rd = self.file[f'Step#{self.current_step}']\n",
    "        time = list(rd.attrs.values())[0]\n",
    "        keys_i = ['NAM', 'X1', 'X2', 'X3', 'V1', 'V2', 'V3', 'M', 'L', 'MC', 'RC', 'RS', 'POT', 'TE']\n",
    "        de = dict()\n",
    "        for key in keys_i:\n",
    "            de[key] = rd[key]\n",
    "        df = pd.DataFrame(data=de)\n",
    "        return df, time\n",
    "    \n",
    "    def reload_at_step(self, step):\n",
    "        if step >= len(self.file):\n",
    "            raise KeyError(f'file does not have Step#{step}')\n",
    "        self.current_step = step\n",
    "        self.single_star_data, self.time = self.__get_single_star_data__()\n",
    "\n",
    "    def save_single_star_data(self, filename, sep=','):\n",
    "        self.single_star_data.to_csv(filename, sep=sep, index=False)\n",
    "        \n",
    "    def xget_steps(self, start=0, stop=None):\n",
    "        if not stop:\n",
    "            stop = len(self.file)\n",
    "        for step in range(start, stop):\n",
    "            self.reload_at_step(step)\n",
    "            yield self.single_star_data, self.time\n",
    "        \n",
    "    def __repr__(self):\n",
    "        out = list()\n",
    "        last_step = (sort_nicely(list(self.file)))[-1]\n",
    "        out.append(f'|---------------------------')\n",
    "        out.append(f\"| Snapshot     | {self.TTOT}\")\n",
    "        out.append(f\"| N            | {len(self.single_star_data)}\")\n",
    "        out.append(f\"| Centered at  | {self.center}\")\n",
    "        out.append(f\"| Stat Time    | {list(self.file['Step#0'].attrs.values())[0]}\")\n",
    "        out.append(f\"| Stop Time    | {list(self.file[last_step].attrs.values())[0]}\")\n",
    "        out.append(f\"| Subsnaps     | {len(self.file)}\")\n",
    "        out.append(f'|---------------------------')\n",
    "        return '\\n'.join(out)"
   ]
  },
  {
   "cell_type": "code",
   "execution_count": 54,
   "metadata": {},
   "outputs": [
    {
     "ename": "SyntaxError",
     "evalue": "invalid syntax (<ipython-input-54-ade4690614ab>, line 23)",
     "output_type": "error",
     "traceback": [
      "\u001b[0;36m  File \u001b[0;32m\"<ipython-input-54-ade4690614ab>\"\u001b[0;36m, line \u001b[0;32m23\u001b[0m\n\u001b[0;31m    else:\u001b[0m\n\u001b[0m       ^\u001b[0m\n\u001b[0;31mSyntaxError\u001b[0m\u001b[0;31m:\u001b[0m invalid syntax\n"
     ]
    }
   ],
   "source": [
    "#TODO: get the follow_ID working for xget_snaps\n",
    "class snapshot_set:\n",
    "    def __init__(self, basepath, subsnap=False):\n",
    "        h5files = [x for x in os.listdir(basepath) if '.h5part' in x]\n",
    "        h5files = sort_nicely(h5files)\n",
    "        self.snapshots = [nbody_snapshot(f\"{basepath}/{x}\") for x in h5files]\n",
    "        self.subsnap = subsnap\n",
    "\n",
    "    def follow_ID(self, ID):\n",
    "        times = list()\n",
    "        if not self.subsnap:\n",
    "            df = self.snapshots[0].single_star_data[self.snapshots[0].single_star_data['NAM'] == ID]\n",
    "        else:\n",
    "            df\n",
    "        times.append(self.snapshots[0].TTOT)\n",
    "        for snapshot in self.snapshots[1:]:\n",
    "            if not self.subsnap:\n",
    "                if len(snapshot.single_star_data[snapshot.single_star_data['NAM'] == ID]) != 0:\n",
    "                    tdf = snapshot.single_star_data[snapshot.single_star_data['NAM'] == ID]\n",
    "                    times.append(snapshot.time)\n",
    "                    df = df.append(tdf)\n",
    "            else:\n",
    "                for data, time in self.snapshot.xget_snaps(start=1):\n",
    "                    tdf = data[data['NAM'] == ID]\n",
    "                    times.append(time)\n",
    "                    df = df.append(tdf)\n",
    "        df['Time'] = times\n",
    "        return df.reset_index(drop=True)\n",
    "    \n",
    "    def dump_set(self, path, name, sep=','):\n",
    "        if path[-1] == '/':\n",
    "            path = path[:-1]\n",
    "        if not os.path.exists(path):\n",
    "            os.mkdir(path)\n",
    "        filenames = [f\"{path}/{name}_{snap.TTOT}.csv\" for snap in self.snapshots]\n",
    "        for snap, filename in zip(self.snapshots, filenames):\n",
    "            snap.save_single_star_data(filename, sep=sep)"
   ]
  },
  {
   "cell_type": "code",
   "execution_count": 64,
   "metadata": {},
   "outputs": [],
   "source": [
    "PATH = \"../../../simulations/runTests/MultiBinaryTest/Binary0-0/Binary0-0/snap.40_2.h5part\"\n",
    "snap = nbody_snapshot(PATH)\n",
    "snap.reload_at_step(5)"
   ]
  },
  {
   "cell_type": "code",
   "execution_count": 50,
   "metadata": {},
   "outputs": [
    {
     "data": {
      "text/plain": [
       "[2.15625, 492]"
      ]
     },
     "execution_count": 50,
     "metadata": {},
     "output_type": "execute_result"
    }
   ],
   "source": [
    "f = h5py.File(PATH)\n",
    "list(f['Step#4'].attrs.values())"
   ]
  },
  {
   "cell_type": "code",
   "execution_count": 21,
   "metadata": {},
   "outputs": [],
   "source": [
    "PATH = \"../../../simulations/runTests/MultiBinaryTest/Binary0-0/Binary0-0\"\n",
    "snapset = snapshot_set(PATH)"
   ]
  },
  {
   "cell_type": "code",
   "execution_count": 22,
   "metadata": {},
   "outputs": [],
   "source": [
    "snapset.dump_set('/Users/tboudreaux/SAOSummer2018/code/General/nbodyPythonInterface/InterfaceTestData', 'TestDump')"
   ]
  },
  {
   "cell_type": "code",
   "execution_count": 6,
   "metadata": {},
   "outputs": [],
   "source": [
    "NAM1 = snapset.follow_ID(1)"
   ]
  },
  {
   "cell_type": "code",
   "execution_count": 305,
   "metadata": {},
   "outputs": [
    {
     "data": {
      "text/plain": [
       "[<matplotlib.lines.Line2D at 0x1143eb278>]"
      ]
     },
     "execution_count": 305,
     "metadata": {},
     "output_type": "execute_result"
    },
    {
     "data": {
      "image/png": "[encoded data removed]",
      "text/plain": [
       "<Figure size 432x288 with 1 Axes>"
      ]
     },
     "metadata": {},
     "output_type": "display_data"
    }
   ],
   "source": [
    "plt.plot(NAM1['X1'], NAM1['X2'])"
   ]
  },
  {
   "cell_type": "code",
   "execution_count": 307,
   "metadata": {},
   "outputs": [],
   "source": [
    "PATH = \"../../../simulations/runTests/ExternalPotentialTest2/N1k_R3_K_xtern\"\n",
    "snapset = snapshot_set(PATH)"
   ]
  },
  {
   "cell_type": "code",
   "execution_count": 340,
   "metadata": {},
   "outputs": [],
   "source": [
    "NAM1 = snapset.follow_ID(2)"
   ]
  },
  {
   "cell_type": "code",
   "execution_count": 346,
   "metadata": {},
   "outputs": [
    {
     "data": {
      "image/png": "[encoded data removed]",
      "text/plain": [
       "<Figure size 432x288 with 1 Axes>"
      ]
     },
     "metadata": {},
     "output_type": "display_data"
    }
   ],
   "source": [
    "plt.loglog(NAM1['TE'], NAM1['L'], 'ko', markersize=1)\n",
    "plt.gca().invert_xaxis()"
   ]
  },
  {
   "cell_type": "code",
   "execution_count": 24,
   "metadata": {},
   "outputs": [
    {
     "data": {
      "text/plain": [
       "'/Users/tboudreaux/Documents/SAOSummer2018REU/code/General/nbodyPythonInterface'"
      ]
     },
     "execution_count": 24,
     "metadata": {},
     "output_type": "execute_result"
    }
   ],
   "source": [
    "pwd"
   ]
  },
  {
   "cell_type": "code",
   "execution_count": 65,
   "metadata": {},
   "outputs": [
    {
     "name": "stdout",
     "output_type": "stream",
     "text": [
      "2.03125\n",
      "2.0625\n",
      "2.09375\n",
      "2.125\n",
      "2.15625\n",
      "2.1875\n",
      "2.21875\n",
      "2.25\n",
      "2.28125\n",
      "2.3125\n",
      "2.34375\n",
      "2.375\n",
      "2.40625\n",
      "2.4375\n",
      "2.46875\n",
      "2.5\n",
      "2.53125\n",
      "2.5625\n",
      "2.59375\n",
      "2.625\n",
      "2.65625\n",
      "2.6875\n",
      "2.71875\n",
      "2.75\n",
      "2.78125\n",
      "2.8125\n",
      "2.84375\n",
      "2.875\n",
      "2.90625\n",
      "2.9375\n",
      "2.96875\n",
      "3.0\n"
     ]
    }
   ],
   "source": [
    "for s, t in snap.xget_steps():\n",
    "    print(t)"
   ]
  },
  {
   "cell_type": "code",
   "execution_count": null,
   "metadata": {},
   "outputs": [],
   "source": []
  }
 ],
 "metadata": {
  "kernelspec": {
   "display_name": "Python 3",
   "language": "python",
   "name": "python3"
  },
  "language_info": {
   "codemirror_mode": {
    "name": "ipython",
    "version": 3
   },
   "file_extension": ".py",
   "mimetype": "text/x-python",
   "name": "python",
   "nbconvert_exporter": "python",
   "pygments_lexer": "ipython3",
   "version": "3.6.2"
  }
 },
 "nbformat": 4,
 "nbformat_minor": 2
}
