{
 "cells": [
  {
   "cell_type": "code",
   "execution_count": 2,
   "metadata": {},
   "outputs": [],
   "source": [
    "import numpy as np\n",
    "import pandas as pd\n",
    "import matplotlib.pyplot as plt\n",
    "\n",
    "%matplotlib inline"
   ]
  },
  {
   "cell_type": "code",
   "execution_count": 22,
   "metadata": {},
   "outputs": [],
   "source": [
    "# [Line Number, KZ(#), Value, cell ref, operation]\n",
    "# cell ref:\n",
    "#         0 - just look at current cell\n",
    "#         1 - and comparision to next cell (&&)\n",
    "#         2 - or comparison to next cell (||)\n",
    "#         3 - cell compared to previous cell\n",
    "# operation:\n",
    "#         1 - KZ(#) == value\n",
    "#         2 - KZ(#) < value\n",
    "#         3 - KZ(#) > value\n",
    "row_conditons = np.array([[10, 5, 2, 0, 1], [11, 5, 3, 0, 1], [12, 5, 3, 0, 1],\n",
    "                         [13, 5, 4, 0, 1], [14, 5, 6, 1, 1], [14, 24, 0, 3, 2],\n",
    "                         [16, 14, 2, 0, 1], [18, 14, 3, 0, 1], [19, 14, 3, 2, 1],\n",
    "                         [19, 14, 4, 3, 1], [20, 8, 1, 2, 1], [20, 8, 4, 3, 2],\n",
    "                         [21, 8, 0, 1, 2], [21, 18, 1, 3, 2], [22, 24, 1, 0, 1],\n",
    "                         [23, 13, 0, 0, 2]])"
   ]
  },
  {
   "cell_type": "code",
   "execution_count": 27,
   "metadata": {},
   "outputs": [],
   "source": [
    "def get_input_grid_rows():\n",
    "    nbody6Row1 = ['KSTART', 'TCOMP', 'TCRITp', 'isernb', 'iserreg', 'iserks']\n",
    "\n",
    "    inputRow1 = ['N', 'NFIX', 'NCRIT', 'NRAND', 'NNBOPT', 'NRUN']\n",
    "    inputRow2 = ['ETAI', 'ETAR', 'RSO', 'DTADJ', 'DELTAT', 'TCRIT', 'QE', 'RBAR', 'ZMBAR']\n",
    "    inputRow3 = ['KZ({a})'.format(a=i) for i in range(1, 11)]\n",
    "    inputRow4 = ['KZ({a})'.format(a=i) for i in range(11, 21)]\n",
    "    inputRow5 = ['KZ({a})'.format(a=i) for i in range(21, 31)]\n",
    "    inputRow6 = ['KZ({a})'.format(a=i) for i in range(31, 41)]\n",
    "    inputRow7 = ['KZ({a})'.format(a=i) for i in range(41, 51)]\n",
    "    inputRow8 = ['DTMIN', 'RMIN', 'ETAU', 'ECLOSE', 'GMIN', 'GMAX', 'SMAX']\n",
    "\n",
    "    dataRow1 = ['ALPHA', 'BODY1', 'BODYN', 'NBINO', 'NHIO', 'ZMET', 'EPOCHO', 'DTPLOT']\n",
    "\n",
    "    setupRow1 = ['APO', 'ECC', 'N2', 'SCALE']\n",
    "    setupRow2 = ['APO', 'ECC', 'SCALE']\n",
    "    setupRow3 = ['APO', 'ECC', 'SCALE']\n",
    "    setupRow4 = ['SEMI', 'ECC', 'M1', 'M2']\n",
    "    setupRow5 = ['ZMH', 'RCUT']\n",
    "\n",
    "    scaleRow1 = ['Q', 'VXROT', 'VZROT', 'RTIDE']\n",
    "\n",
    "    xtrn10Row1 = ['GMG', 'RGO']\n",
    "    xtrn10Row2 = ['GMG', 'DISK', 'A', 'B', 'VCIRC', 'RCIRC', 'GMB', 'AR', 'GAM']\n",
    "    xtrn10Row3 = ['RGx', 'RGy', 'RGz', 'VGx', 'VGy', 'VGz']\n",
    "    xtrn10Row4 = ['MP', 'AP', 'MPDOT', 'TDELAY']\n",
    "\n",
    "    binpopRow1 = ['SEMI', 'ECC', 'RATIO', 'RANGE', 'NSKIP', 'IDORM']\n",
    "\n",
    "    hipopRow1 = ['SEMI', 'ECC', 'RATIO', 'RANGE']\n",
    "\n",
    "    imbhinitRow1 = ['MMBH', 'XBH(1)', 'XBH(2)', 'XBH(3)', 'VBH(1)', 'VBH(2)', 'VBH(3)', 'DTBH']\n",
    "\n",
    "    cloud0Row1 = ['NCL', 'RB2', 'VCL', 'SIGMA', 'CLM', 'RCL2']\n",
    "\n",
    "    Rows = [nbody6Row1, inputRow1, inputRow2, inputRow3, inputRow4, inputRow5, inputRow6,\n",
    "            inputRow7, inputRow8, dataRow1, setupRow1, setupRow2, setupRow3, setupRow4,\n",
    "            setupRow5, scaleRow1, xtrn10Row1, xtrn10Row2, xtrn10Row3, xtrn10Row4, binpopRow1,\n",
    "            hipopRow1, imbhinitRow1, cloud0Row1]\n",
    "    \n",
    "    Names = ['nbody6.F', 'input.F', 'data.F', 'setup.F', 'scale.F', 'xtrn10.F',\n",
    "             'binpop.F', 'hipop.F', 'imbhinit.F', 'cloud0.F']\n",
    "    \n",
    "    return Rows, Names"
   ]
  },
  {
   "cell_type": "code",
   "execution_count": 51,
   "metadata": {},
   "outputs": [],
   "source": [
    "class nbody6ppp:\n",
    "    def __init__(self, **kwargs):\n",
    "        self.parms = kwargs\n",
    "        self.grid = get_input_grid_rows()\n",
    "        self.row_conditons = np.array([[10, 5, 2, 0, 1], [11, 5, 3, 0, 1], [12, 5, 3, 0, 1],\n",
    "                         [13, 5, 4, 0, 1], [14, 5, 6, 1, 1], [14, 24, 0, 3, 2],\n",
    "                         [16, 14, 2, 0, 1], [18, 14, 3, 0, 1], [19, 14, 3, 2, 1],\n",
    "                         [19, 14, 4, 3, 1], [20, 8, 1, 2, 1], [20, 8, 4, 3, 2],\n",
    "                         [21, 8, 0, 1, 2], [21, 18, 1, 3, 2], [22, 24, 1, 0, 1],\n",
    "                         [23, 13, 0, 0, 2]])\n",
    "        self.set_rows = np.zeros(12)\n",
    "\n",
    "    def load_file(self, path):\n",
    "        with open(path, 'r') as f:\n",
    "            lines = f.readlines()\n",
    "        lines = [x.rstrip().lstrip().split() for x in lines]\n",
    "        for i, line in enumerate(lines):\n",
    "            lines[i] = [float(x) if '.' in x else int(x) for x in line]\n",
    "        self.__parse_file__(lines, self.row_conditons)\n",
    "        return lines\n",
    "    \n",
    "    @staticmethod\n",
    "    def __parse_file__(lines, conditionals):\n",
    "        set_rows = np.zeros(12)\n",
    "        additional_rows = list()\n",
    "        for linenumber, linecontents in enumerate(lines):\n",
    "            if linenumber in conditionals[:, 1]:\n",
    "                pass # Deal with that\n",
    "            else:\n",
    "                for i, value in enumerate(linecontents):\n",
    "                    KZ = False\n",
    "                    print(value)\n",
    "                    if 'KZ' in value:\n",
    "                        KZ = True\n",
    "                        KZNum = int(value[3:-1])\n",
    "                        if KZnum in conditionals[:, 1]: \n",
    "                            to_set = conditionals[np.where(conditionals[:, 1] == KZNum)][:, 0]\n",
    "                            additional_rows.append(to_set[np.where(to_set[:, 3] != 0)])\n",
    "                            go_rows = to_set[np.where(to_set[:, 3] == 0)]\n",
    "                            for go in go_rows[:, 0]:\n",
    "                                set_rows[go] = 1\n",
    "        print(set_rows, additional_rows)\n",
    "                    "
   ]
  },
  {
   "cell_type": "code",
   "execution_count": null,
   "metadata": {},
   "outputs": [],
   "source": [
    "class nbody6:\n",
    "    def __init__(self, )"
   ]
  },
  {
   "cell_type": "code",
   "execution_count": 52,
   "metadata": {},
   "outputs": [
    {
     "name": "stdout",
     "output_type": "stream",
     "text": [
      "1\n"
     ]
    },
    {
     "ename": "TypeError",
     "evalue": "argument of type 'int' is not iterable",
     "output_type": "error",
     "traceback": [
      "\u001b[0;31m---------------------------------------------------------------------------\u001b[0m",
      "\u001b[0;31mTypeError\u001b[0m                                 Traceback (most recent call last)",
      "\u001b[0;32m<ipython-input-52-a195920f4411>\u001b[0m in \u001b[0;36m<module>\u001b[0;34m()\u001b[0m\n\u001b[1;32m      1\u001b[0m \u001b[0mparms\u001b[0m \u001b[0;34m=\u001b[0m \u001b[0mnbody6ppp\u001b[0m\u001b[0;34m(\u001b[0m\u001b[0;34m)\u001b[0m\u001b[0;34m\u001b[0m\u001b[0m\n\u001b[0;32m----> 2\u001b[0;31m \u001b[0mparms\u001b[0m\u001b[0;34m.\u001b[0m\u001b[0mload_file\u001b[0m\u001b[0;34m(\u001b[0m\u001b[0;34m'test.input'\u001b[0m\u001b[0;34m)\u001b[0m\u001b[0;34m\u001b[0m\u001b[0m\n\u001b[0m",
      "\u001b[0;32m<ipython-input-51-a8f679577f0e>\u001b[0m in \u001b[0;36mload_file\u001b[0;34m(self, path)\u001b[0m\n\u001b[1;32m     17\u001b[0m         \u001b[0;32mfor\u001b[0m \u001b[0mi\u001b[0m\u001b[0;34m,\u001b[0m \u001b[0mline\u001b[0m \u001b[0;32min\u001b[0m \u001b[0menumerate\u001b[0m\u001b[0;34m(\u001b[0m\u001b[0mlines\u001b[0m\u001b[0;34m)\u001b[0m\u001b[0;34m:\u001b[0m\u001b[0;34m\u001b[0m\u001b[0m\n\u001b[1;32m     18\u001b[0m             \u001b[0mlines\u001b[0m\u001b[0;34m[\u001b[0m\u001b[0mi\u001b[0m\u001b[0;34m]\u001b[0m \u001b[0;34m=\u001b[0m \u001b[0;34m[\u001b[0m\u001b[0mfloat\u001b[0m\u001b[0;34m(\u001b[0m\u001b[0mx\u001b[0m\u001b[0;34m)\u001b[0m \u001b[0;32mif\u001b[0m \u001b[0;34m'.'\u001b[0m \u001b[0;32min\u001b[0m \u001b[0mx\u001b[0m \u001b[0;32melse\u001b[0m \u001b[0mint\u001b[0m\u001b[0;34m(\u001b[0m\u001b[0mx\u001b[0m\u001b[0;34m)\u001b[0m \u001b[0;32mfor\u001b[0m \u001b[0mx\u001b[0m \u001b[0;32min\u001b[0m \u001b[0mline\u001b[0m\u001b[0;34m]\u001b[0m\u001b[0;34m\u001b[0m\u001b[0m\n\u001b[0;32m---> 19\u001b[0;31m         \u001b[0mself\u001b[0m\u001b[0;34m.\u001b[0m\u001b[0m__parse_file__\u001b[0m\u001b[0;34m(\u001b[0m\u001b[0mlines\u001b[0m\u001b[0;34m,\u001b[0m \u001b[0mself\u001b[0m\u001b[0;34m.\u001b[0m\u001b[0mrow_conditons\u001b[0m\u001b[0;34m)\u001b[0m\u001b[0;34m\u001b[0m\u001b[0m\n\u001b[0m\u001b[1;32m     20\u001b[0m         \u001b[0;32mreturn\u001b[0m \u001b[0mlines\u001b[0m\u001b[0;34m\u001b[0m\u001b[0m\n\u001b[1;32m     21\u001b[0m \u001b[0;34m\u001b[0m\u001b[0m\n",
      "\u001b[0;32m<ipython-input-51-a8f679577f0e>\u001b[0m in \u001b[0;36m__parse_file__\u001b[0;34m(lines, conditionals)\u001b[0m\n\u001b[1;32m     31\u001b[0m                     \u001b[0mKZ\u001b[0m \u001b[0;34m=\u001b[0m \u001b[0;32mFalse\u001b[0m\u001b[0;34m\u001b[0m\u001b[0m\n\u001b[1;32m     32\u001b[0m                     \u001b[0mprint\u001b[0m\u001b[0;34m(\u001b[0m\u001b[0mvalue\u001b[0m\u001b[0;34m)\u001b[0m\u001b[0;34m\u001b[0m\u001b[0m\n\u001b[0;32m---> 33\u001b[0;31m                     \u001b[0;32mif\u001b[0m \u001b[0;34m'KZ'\u001b[0m \u001b[0;32min\u001b[0m \u001b[0mvalue\u001b[0m\u001b[0;34m:\u001b[0m\u001b[0;34m\u001b[0m\u001b[0m\n\u001b[0m\u001b[1;32m     34\u001b[0m                         \u001b[0mKZ\u001b[0m \u001b[0;34m=\u001b[0m \u001b[0;32mTrue\u001b[0m\u001b[0;34m\u001b[0m\u001b[0m\n\u001b[1;32m     35\u001b[0m                         \u001b[0mKZNum\u001b[0m \u001b[0;34m=\u001b[0m \u001b[0mint\u001b[0m\u001b[0;34m(\u001b[0m\u001b[0mvalue\u001b[0m\u001b[0;34m[\u001b[0m\u001b[0;36m3\u001b[0m\u001b[0;34m:\u001b[0m\u001b[0;34m-\u001b[0m\u001b[0;36m1\u001b[0m\u001b[0;34m]\u001b[0m\u001b[0;34m)\u001b[0m\u001b[0;34m\u001b[0m\u001b[0m\n",
      "\u001b[0;31mTypeError\u001b[0m: argument of type 'int' is not iterable"
     ]
    }
   ],
   "source": [
    "parms = nbody6ppp()\n",
    "parms.load_file('test.input')"
   ]
  },
  {
   "cell_type": "code",
   "execution_count": 26,
   "metadata": {},
   "outputs": [
    {
     "data": {
      "text/plain": [
       "array([ 5,  5,  5,  5,  5, 24, 14, 14, 14, 14,  8,  8,  8, 18, 24, 13])"
      ]
     },
     "execution_count": 26,
     "metadata": {},
     "output_type": "execute_result"
    }
   ],
   "source": [
    "row_conditons[:, 1]"
   ]
  },
  {
   "cell_type": "code",
   "execution_count": 32,
   "metadata": {},
   "outputs": [],
   "source": [
    "test = 'KZ(35)'"
   ]
  },
  {
   "cell_type": "code",
   "execution_count": 34,
   "metadata": {},
   "outputs": [
    {
     "data": {
      "text/plain": [
       "35"
      ]
     },
     "execution_count": 34,
     "metadata": {},
     "output_type": "execute_result"
    }
   ],
   "source": [
    "int(test[3:-1])"
   ]
  },
  {
   "cell_type": "code",
   "execution_count": 43,
   "metadata": {},
   "outputs": [
    {
     "data": {
      "text/plain": [
       "array([[22, 24,  1,  0,  1]])"
      ]
     },
     "execution_count": 43,
     "metadata": {},
     "output_type": "execute_result"
    }
   ],
   "source": [
    "to_set = row_conditons[np.where(row_conditons[:, 1] == 24)]\n",
    "to_set[np.where(to_set[:, 3] == 0)]"
   ]
  },
  {
   "cell_type": "code",
   "execution_count": null,
   "metadata": {},
   "outputs": [],
   "source": []
  }
 ],
 "metadata": {
  "kernelspec": {
   "display_name": "Python 3",
   "language": "python",
   "name": "python3"
  },
  "language_info": {
   "codemirror_mode": {
    "name": "ipython",
    "version": 3
   },
   "file_extension": ".py",
   "mimetype": "text/x-python",
   "name": "python",
   "nbconvert_exporter": "python",
   "pygments_lexer": "ipython3",
   "version": "3.6.2"
  }
 },
 "nbformat": 4,
 "nbformat_minor": 2
}
