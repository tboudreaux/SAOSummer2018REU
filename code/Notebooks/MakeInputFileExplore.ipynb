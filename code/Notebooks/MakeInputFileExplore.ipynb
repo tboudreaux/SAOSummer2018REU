{
 "cells": [
  {
   "cell_type": "code",
   "execution_count": 2,
   "metadata": {},
   "outputs": [],
   "source": [
    "import pandas as pd\n",
    "import numpy as np\n",
    "import ipywidgets as iw"
   ]
  },
  {
   "cell_type": "code",
   "execution_count": 3,
   "metadata": {},
   "outputs": [],
   "source": [
    "def get_input_grid_rows():\n",
    "    nbody6Row1 = ['KSTART', 'TCOMP', 'TCRITp', 'isernb', 'iserreg', 'iserks']\n",
    "\n",
    "    inputRow1 = ['N', 'NFIX', 'NCRIT', 'NRAND', 'NNBOPT', 'NRUN']\n",
    "    inputRow2 = ['ETAI', 'ETAR', 'RSO', 'DTADJ', 'DELTAT', 'TCRIT', 'QE', 'RBAR', 'ZMBAR']\n",
    "    inputRow3 = ['KZ({a})'.format(a=i) for i in range(1, 11)]\n",
    "    inputRow4 = ['KZ({a})'.format(a=i) for i in range(11, 21)]\n",
    "    inputRow5 = ['KZ({a})'.format(a=i) for i in range(21, 31)]\n",
    "    inputRow6 = ['KZ({a})'.format(a=i) for i in range(31, 41)]\n",
    "    inputRow7 = ['KZ({a})'.format(a=i) for i in range(41, 51)]\n",
    "    inputRow8 = ['DTMIN', 'RMIN', 'ETAU', 'ECLOSE', 'GMIN', 'GMAX', 'SMAX']\n",
    "\n",
    "    dataRow1 = ['ALPHA', 'BODY1', 'BODYN', 'NBINO', 'NHIO', 'ZMET', 'EPOCHO', 'DTPLOT']\n",
    "\n",
    "    setupRow1 = ['APO', 'ECC', 'N2', 'SCALE']\n",
    "    setupRow2 = ['APO', 'ECC', 'SCALE']\n",
    "    setupRow3 = ['APO', 'ECC', 'SCALE']\n",
    "    setupRow4 = ['SEMI', 'ECC', 'M1', 'M2']\n",
    "    setupRow5 = ['ZMH', 'RCUT']\n",
    "\n",
    "    scaleRow1 = ['Q', 'VXROT', 'VZROT', 'RTIDE']\n",
    "\n",
    "    xtrn10Row1 = ['GMG', 'RGO']\n",
    "    xtrn10Row2 = ['GMG', 'DISK', 'A', 'B', 'VCIRC', 'RCIRC', 'GMB', 'AR', 'GAM']\n",
    "    xtrn10Row3 = ['RGx', 'RGy', 'RGz', 'VGx', 'VGy', 'VGz']\n",
    "    xtrn10Row4 = ['MP', 'AP', 'MPDOT', 'TDELAY']\n",
    "\n",
    "    binpopRow1 = ['SEMI', 'ECC', 'RATIO', 'RANGE', 'NSKIP', 'IDORM']\n",
    "\n",
    "    hipopRow1 = ['SEMI', 'ECC', 'RATIO', 'RANGE']\n",
    "\n",
    "    imbhinitRow1 = ['MMBH', 'XBH(1)', 'XBH(2)', 'XBH(3)', 'VBH(1)', 'VBH(2)', 'VBH(3)', 'DTBH']\n",
    "\n",
    "    cloud0Row1 = ['NCL', 'RB2', 'VCL', 'SIGMA', 'CLM', 'RCL2']\n",
    "\n",
    "    Rows = [nbody6Row1, inputRow1, inputRow2, inputRow3, inputRow4, inputRow5, inputRow6,\n",
    "            inputRow7, inputRow8, dataRow1, setupRow1, setupRow2, setupRow3, setupRow4,\n",
    "            setupRow5, scaleRow1, xtrn10Row1, xtrn10Row2, xtrn10Row3, xtrn10Row4, binpopRow1,\n",
    "            hipopRow1, imbhinitRow1, cloud0Row1]\n",
    "    \n",
    "    Names = ['nbody6.F', 'input.F', 'data.F', 'setup.F', 'scale.F', 'xtrn10.F',\n",
    "             'binpop.F', 'hipop.F', 'imbhinit.F', 'cloud0.F']\n",
    "    \n",
    "    return Rows, Names"
   ]
  },
  {
   "cell_type": "code",
   "execution_count": 4,
   "metadata": {},
   "outputs": [],
   "source": [
    "def read_input_grid(path):\n",
    "    with open(path, 'r') as grid:\n",
    "        rows = grid.readlines()\n",
    "    rows = [row.strip('\\n').split(' ') for row in rows]\n",
    "    return rows"
   ]
  },
  {
   "cell_type": "code",
   "execution_count": 5,
   "metadata": {},
   "outputs": [],
   "source": [
    "def display_grid(Rows, Names, grid=None):\n",
    "    boxs = list()\n",
    "    groups = list()\n",
    "    ccurent = 0\n",
    "    cuts = [0, 8, 9, 14, 15, 19, 20, 21, 22, 23]\n",
    "\n",
    "    for i, row in enumerate(Rows):\n",
    "        if grid:\n",
    "             attrib = [iw.Text(placeholder=w, value=v) for w, v in zip(row, grid[i])]\n",
    "        else:\n",
    "             attrib = [iw.Text(placeholder=w) for w in row]\n",
    "        row = iw.HBox([a for a in attrib])\n",
    "        boxs.append(row)\n",
    "\n",
    "\n",
    "        if i == cuts[ccurent]:\n",
    "            groups.append(iw.VBox(boxs))\n",
    "            boxs = list()\n",
    "            ccurent += 1\n",
    "\n",
    "    accord = iw.Accordion(children=groups)\n",
    "    for i, name in enumerate(Names):\n",
    "        accord.set_title(i, name)\n",
    "\n",
    "    return accord, groups"
   ]
  },
  {
   "cell_type": "code",
   "execution_count": 6,
   "metadata": {},
   "outputs": [],
   "source": [
    "def input_grid_generation(Rows, Names, grid=None):\n",
    "    widget, groups = display_grid(Rows, Names, grid=grid)\n",
    "    save = iw.Button(description='Save Input File')\n",
    "    filename = iw.Text(placeholder='File Name', value='FileName.txt')\n",
    "    def save_func(b):\n",
    "        KZ5 = groups[1].children[2].children[4].value\n",
    "        KZ8 = groups[1].children[2].children[7].value\n",
    "        KZ13 = groups[1].children[3].children[2].value\n",
    "        KZ14 = groups[1].children[3].children[3].value\n",
    "        KZ18 = groups[1].children[3].children[7].value\n",
    "        KZ24 = groups[1].children[4].children[3].value\n",
    "        cRow = 0\n",
    "        out = list()\n",
    "        for j, group in enumerate(groups):\n",
    "            for i, row in enumerate(group.children):\n",
    "                ap = True\n",
    "                row_vals = list()\n",
    "                for cell in row.children: \n",
    "                    if cell.value == '':\n",
    "                            row_vals.append('@')\n",
    "                    else:\n",
    "                        row_vals.append(cell.value)\n",
    "                if not set(row_vals) == {'@'}:\n",
    "                    out.append(' '.join(row_vals))\n",
    "                cRow += 1\n",
    "        save_name = filename.value\n",
    "        with open(save_name, 'w') as f:\n",
    "            f.write('\\n'.join(out))\n",
    "        bash_name = save_name.split('.')[0] + '.sh'\n",
    "        with open(bash_name, 'w') as f:\n",
    "            f.write('#!/bin/bash\\n')\n",
    "            f.write('echo \"Starting Simulation\"\\n')\n",
    "            f.write(f'nbody6++.hdf5 < {save_name} > .')\n",
    "        \n",
    "\n",
    "    save.on_click(save_func)\n",
    "    meta = iw.HBox([save, filename])\n",
    "    composit = iw.VBox([widget, meta])\n",
    "    \n",
    "    return composit"
   ]
  },
  {
   "cell_type": "code",
   "execution_count": 8,
   "metadata": {},
   "outputs": [],
   "source": [
    "# [Line Number, KZ(#), Value, cell ref, operation]\n",
    "# cell ref:\n",
    "#         0 - just look at current cell\n",
    "#         1 - and comparision to next cell (&&)\n",
    "#         2 - or comparison to next cell (||)\n",
    "#         3 - cell compared to previous cell\n",
    "# operation:\n",
    "#         1 - KZ(#) == value\n",
    "#         2 - KZ(#) < value\n",
    "#         3 - KZ(#) > value\n",
    "# row_conditons = np.array([[10, 5, 2, 0, 1], [11, 5, 3, 0, 1], [12, 5, 3, 0, 1],\n",
    "#                          [13, 5, 4, 0, 1], [14, 5, 6, 1, 1], [14, 24, 0, 3, 2],\n",
    "#                          [16, 14, 2, 0, 1], [18, 14, 3, 0, 1], [19, 14, 3, 2, 1],\n",
    "#                          [19, 14, 4, 3, 1], [20, 8, 1, 2, 1], [20, 8, 4, 3, 2],\n",
    "#                          [21, 8, 0, 1, 2], [21, 18, 1, 3, 2], [22, 24, 1, 0, 1],\n",
    "#                          [23, 13, 0, 0, 2]])\n",
    "# condition_indexs = np.where(row_conditons[:, 0] == cRow)[0]\n",
    "# conditions = np.zeros(shape=(len(condition_indexs), 5))\n",
    "# for i, ci in enumerate(condition_indexs):\n",
    "#     conditions[i] = row_conditons[ci]\n",
    "# if conditions.size != 0:\n",
    "#     tcond = conditions[0]\n",
    "#     if tcond[1] == 5:\n",
    "#         if tcond[4] == 1:\n",
    "#             assert KZ5 == tcond[2]\n",
    "#         else:\n",
    "#             raise NameError\n",
    "#     if tcond[1] == 8"
   ]
  },
  {
   "cell_type": "code",
   "execution_count": 9,
   "metadata": {},
   "outputs": [
    {
     "data": {
      "application/vnd.jupyter.widget-view+json": {
       "model_id": "1c98d6ea376f4469aa250a263b046c45",
       "version_major": 2,
       "version_minor": 0
      },
      "text/plain": [
       "VBox(children=(Accordion(children=(VBox(children=(HBox(children=(Text(value='', placeholder='KSTART'), Text(va…"
      ]
     },
     "metadata": {},
     "output_type": "display_data"
    }
   ],
   "source": [
    "Rows, Names = get_input_grid_rows()\n",
    "grid = read_input_grid('grid.input')\n",
    "\n",
    "input_grid_generation(Rows, Names)"
   ]
  },
  {
   "cell_type": "code",
   "execution_count": null,
   "metadata": {},
   "outputs": [],
   "source": []
  }
 ],
 "metadata": {
  "kernelspec": {
   "display_name": "Python 3",
   "language": "python",
   "name": "python3"
  },
  "language_info": {
   "codemirror_mode": {
    "name": "ipython",
    "version": 3
   },
   "file_extension": ".py",
   "mimetype": "text/x-python",
   "name": "python",
   "nbconvert_exporter": "python",
   "pygments_lexer": "ipython3",
   "version": "3.6.2"
  }
 },
 "nbformat": 4,
 "nbformat_minor": 2
}
