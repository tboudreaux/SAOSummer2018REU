{
 "cells": [
  {
   "cell_type": "code",
   "execution_count": 2,
   "metadata": {},
   "outputs": [],
   "source": [
    "import matplotlib.pyplot as plt\n",
    "import numpy as np\n",
    "import pandas as pd\n",
    "from tqdm import tqdm, tqdm_notebook\n",
    "import warnings\n",
    "from scipy.signal import lombscargle\n",
    "from IPython.display import display\n",
    "\n",
    "%matplotlib inline"
   ]
  },
  {
   "cell_type": "markdown",
   "metadata": {},
   "source": [
    "# Lagrangian Radii Vis"
   ]
  },
  {
   "cell_type": "code",
   "execution_count": 5,
   "metadata": {},
   "outputs": [],
   "source": [
    "PATH = \"../../simulations/runTests/2kRunThree/lagr.7\"\n",
    "protoNames = ['Rlagr', 'Rlagrs', 'Rlagrb', '<M>', 'NShell', '<Vx>', '<Vy>', '<Vz>', \n",
    "              '<V>', '<Vr>', '<Vt>', 'sigma2', 'sigmar2', 'sigmat2', '<Vrot>']\n",
    "mratios = [0.1, 0.3, 0.5, 1, 3, 5, 10, 20, 30, 40, 50, 60, 70, 80, 90, 95, 99, 100]\n",
    "names = ['Times']\n",
    "for name in protoNames:\n",
    "    for mratio in mratios:\n",
    "        names.append(f\"{name}_{mratio}\")\n",
    "with warnings.catch_warnings():\n",
    "    warnings.simplefilter('ignore')\n",
    "    df = pd.read_csv(PATH, skiprows=2, sep=r'\\s*', engine='python')#, names=names)"
   ]
  },
  {
   "cell_type": "code",
   "execution_count": 19,
   "metadata": {},
   "outputs": [
    {
     "name": "stderr",
     "output_type": "stream",
     "text": [
      "100%|██████████| 284/284 [00:56<00:00,  5.06it/s]\n"
     ]
    }
   ],
   "source": [
    "plt.ioff()\n",
    "for i in tqdm(range(284)):\n",
    "    plt.plot(df.iloc[:, 0], df.iloc[:, i])\n",
    "    plt.title(f'i: {i}')\n",
    "    plt.savefig(f'Figures/UnderstandingLagr/i_{i}_LAGR.pdf', bbox_inches='tight')\n",
    "    plt.close()\n",
    "plt.ion()"
   ]
  },
  {
   "cell_type": "markdown",
   "metadata": {},
   "source": [
    "# Status Vis"
   ]
  },
  {
   "cell_type": "code",
   "execution_count": 72,
   "metadata": {},
   "outputs": [],
   "source": [
    "PATH = \"../../simulations/runTests/2kRunFive/status.36\"\n",
    "names = ['TIME[NB]', 'TIME[Myr]']\n",
    "with warnings.catch_warnings():\n",
    "    warnings.simplefilter('ignore')\n",
    "    df = pd.read_csv(PATH, skiprows=2, sep=r'\\s*', engine='python')#, names=names)"
   ]
  },
  {
   "cell_type": "code",
   "execution_count": 73,
   "metadata": {},
   "outputs": [
    {
     "data": {
      "text/plain": [
       "777"
      ]
     },
     "execution_count": 73,
     "metadata": {},
     "output_type": "execute_result"
    }
   ],
   "source": [
    "len(df)"
   ]
  },
  {
   "cell_type": "markdown",
   "metadata": {},
   "source": [
    "# Gobal Vis"
   ]
  },
  {
   "cell_type": "code",
   "execution_count": 3,
   "metadata": {},
   "outputs": [],
   "source": [
    "PATH = \"../../simulations/runTests/WriteDensityCheck1/N10k_R3_K_DELTAT/global.30\"\n",
    "with warnings.catch_warnings():\n",
    "    warnings.simplefilter('ignore')\n",
    "    df = pd.read_csv(PATH, sep=r'\\s*', engine='python', index_col=False)#, names=names)\n",
    "#     names = df.columns.tolist()\n",
    "#     new_names = list()\n",
    "#     for name in names:\n",
    "#         sub_name = name.split('[')\n",
    "#         new_names.append(sub_name[0])\n",
    "#     df.columns = new_names"
   ]
  },
  {
   "cell_type": "code",
   "execution_count": 8,
   "metadata": {},
   "outputs": [
    {
     "data": {
      "image/png": "[encoded data removed]",
      "text/plain": [
       "<Figure size 720x504 with 1 Axes>"
      ]
     },
     "metadata": {},
     "output_type": "display_data"
    }
   ],
   "source": [
    "s = 0\n",
    "e = -1\n",
    "plt.figure(figsize=(10, 7))\n",
    "ind = 'TIME[Myr]'\n",
    "dep = 'RSCALE[PC]'\n",
    "plt.plot(df[ind].iloc[s:e], df[dep].iloc[s:e], '--o')\n",
    "plt.ylabel(dep, fontsize=15)\n",
    "plt.xlabel(ind, fontsize=15)\n",
    "plt.savefig(f'Figures/global_time_vs_{dep}.pdf', bbox_inches='tight')"
   ]
  },
  {
   "cell_type": "code",
   "execution_count": 5,
   "metadata": {},
   "outputs": [
    {
     "data": {
      "text/plain": [
       "Index(['TIME[NB]', 'TIME[Myr]', 'TCR[Myr]', 'DE', 'BE(3)', 'RSCALE[PC]',\n",
       "       'RTIDE[PC]', 'RDENS[PC]', 'RC[PC]', 'RHOD[M*]', 'RHOM[M*]', 'MC[M*]',\n",
       "       'CMAX', '<Cn>', 'Ir/R', 'RCM', 'VCM', 'AZ', 'EB/E', 'EM/E', 'VRMS', 'N',\n",
       "       'NS', 'NPAIRS', 'NUPKS', 'NPKS', 'NMERGE', 'MULT', '<NB>', 'NC', 'NESC',\n",
       "       'NSTEPI', 'NSTEPB', 'NSTEPR', 'NSTEPU', 'NSTEPT', 'NSTEPQ', 'NSTEPC',\n",
       "       'NBLOCK', 'NBLCKR', 'NNPRED', 'NIRRF', 'NBCORR', 'NBFLUX', 'NBFULL',\n",
       "       'NBVOID', 'NICONV', 'NLSMIN', 'NBSMIN', 'NBDIS', 'NBDIS2', 'NCMDER',\n",
       "       'NFAST', 'NBFAST', 'NKSTRY', 'NKSREG', 'NKSHYP', 'NKSPER',\n",
       "       'NKSMODNTTRY', 'NTRIP', 'NQUAD', 'NCHAIN', 'NMERG', 'NEWHI'],\n",
       "      dtype='object')"
      ]
     },
     "execution_count": 5,
     "metadata": {},
     "output_type": "execute_result"
    }
   ],
   "source": [
    "df.columns"
   ]
  },
  {
   "cell_type": "code",
   "execution_count": 30,
   "metadata": {},
   "outputs": [
    {
     "data": {
      "text/plain": [
       "0    -366.737891\n",
       "1    -366.737909\n",
       "2    -366.737909\n",
       "3    -366.737909\n",
       "4    -366.737911\n",
       "5    -366.737912\n",
       "6    -366.737910\n",
       "7    -366.737911\n",
       "8    -366.738041\n",
       "9    -366.738074\n",
       "10   -377.329534\n",
       "11   -394.352252\n",
       "12   -394.352257\n",
       "13   -394.352256\n",
       "14   -394.352592\n",
       "15   -394.352951\n",
       "16   -394.352952\n",
       "17   -394.395765\n",
       "18   -398.222017\n",
       "19   -398.222017\n",
       "20   -398.222017\n",
       "21   -398.221894\n",
       "22   -398.236157\n",
       "23   -398.233139\n",
       "24   -398.233248\n",
       "25   -418.012984\n",
       "26   -418.012985\n",
       "27   -418.012985\n",
       "28   -418.012985\n",
       "29   -418.013026\n",
       "30   -418.013114\n",
       "Name: BE(3), dtype: float64"
      ]
     },
     "execution_count": 30,
     "metadata": {},
     "output_type": "execute_result"
    }
   ],
   "source": [
    "df.iloc[:, 4]"
   ]
  },
  {
   "cell_type": "code",
   "execution_count": null,
   "metadata": {},
   "outputs": [],
   "source": []
  }
 ],
 "metadata": {
  "kernelspec": {
   "display_name": "Python 3",
   "language": "python",
   "name": "python3"
  },
  "language_info": {
   "codemirror_mode": {
    "name": "ipython",
    "version": 3
   },
   "file_extension": ".py",
   "mimetype": "text/x-python",
   "name": "python",
   "nbconvert_exporter": "python",
   "pygments_lexer": "ipython3",
   "version": "3.6.2"
  }
 },
 "nbformat": 4,
 "nbformat_minor": 2
}
