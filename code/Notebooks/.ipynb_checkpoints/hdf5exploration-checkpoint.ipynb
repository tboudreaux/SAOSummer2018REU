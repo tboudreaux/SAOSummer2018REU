{
 "cells": [
  {
   "cell_type": "code",
   "execution_count": 1,
   "metadata": {},
   "outputs": [],
   "source": [
    "import pandas as pd\n",
    "import numpy as np\n",
    "import matplotlib.pyplot as plt\n",
    "import h5py\n",
    "import ipyvolume as ipv\n",
    "from ipywidgets import VBox, IntSlider, interact, HBox, Output\n",
    "import matplotlib.cm\n",
    "import matplotlib as mpl\n",
    "import time\n",
    "from IPython.display import clear_output\n",
    "\n",
    "%matplotlib inline"
   ]
  },
  {
   "cell_type": "code",
   "execution_count": 6,
   "metadata": {},
   "outputs": [],
   "source": [
    "def plot_cluster(part, step):\n",
    "# for part in range(51):\n",
    "    PATH = f'../../simulations/runTests/ExternalPotentialTest2/N1k_R3_K_xtern/snap.40_{part}.h5part'\n",
    "    f = h5py.File(PATH, 'r')\n",
    "\n",
    "    X1 = f[f'Step#{step}']['X1']\n",
    "    X2 = f[f'Step#{step}']['X2']\n",
    "    X3 = f[f'Step#{step}']['X3']\n",
    "\n",
    "    V1 = f[f'Step#{step}']['V1']\n",
    "    V2 = f[f'Step#{step}']['V2']\n",
    "    V3 = f[f'Step#{step}']['V3']\n",
    "\n",
    "    L = f[f'Step#{step}']['L']\n",
    "    TE = f[f'Step#{step}']['TE']\n",
    "    POT = f[f'Step#{step}']['POT']\n",
    "    MC = f[f'Step#{step}']['MC']\n",
    "\n",
    "    R = f[f'Step#{step}']['RS']\n",
    "    \n",
    "    V = np.sqrt(np.power(list(V1), 2)+np.power(list(V2), 2)+np.power(list(V3), 2))\n",
    "\n",
    "\n",
    "    color_var = V\n",
    "    ipv.figure()\n",
    "    colormap = matplotlib.cm.viridis\n",
    "    c = colormap(np.linspace(min(color_var), max(color_var), len(color_var)))\n",
    "    ipv.quiver(X1, X2, X3, V1, V2, V3, size=R, color=c)\n",
    "\n",
    "    # ipv.scatter(X1, X2, X3, size=R, marker='sphere', color=c)\n",
    "    o = Output()\n",
    "    ipv.show()\n",
    "\n",
    "    with o:\n",
    "        clear_output()\n",
    "        fig, ax = plt.subplots()\n",
    "        cmap = mpl.cm.viridis\n",
    "        norm = mpl.colors.Normalize(vmin=min(color_var), vmax=max(color_var))\n",
    "\n",
    "        cb1 = mpl.colorbar.ColorbarBase(ax, cmap=cmap,\n",
    "                                        norm=norm,\n",
    "                                        orientation='horizontal')\n",
    "        plt.show()\n",
    "    HBox([ipv.gcc(), o])\n",
    "    \n",
    "#     a = np.array([[min(color_var), max(color_var)]])\n",
    "#     plt.figure(figsize=(9, 1.5))\n",
    "#     img = plt.imshow(a, cmap=\"Blues\")\n",
    "#     plt.gca().set_visible(False)\n",
    "#     cax = plt.axes([0.1, 0.2, 0.8, 0.6])\n",
    "#     plt.colorbar(cax=cax, orientation='horizontal')\n",
    "#     plt.show()\n",
    "#     print(max(color_var))"
   ]
  },
  {
   "cell_type": "code",
   "execution_count": 7,
   "metadata": {},
   "outputs": [
    {
     "data": {
      "application/vnd.jupyter.widget-view+json": {
       "model_id": "8acecfc0fb874e0bb55598cc81f9cd33",
       "version_major": 2,
       "version_minor": 0
      },
      "text/plain": [
       "interactive(children=(IntSlider(value=0, description='part', max=50), IntSlider(value=0, description='step', m…"
      ]
     },
     "metadata": {},
     "output_type": "display_data"
    },
    {
     "data": {
      "text/plain": [
       "<function __main__.plot_cluster(part, step)>"
      ]
     },
     "execution_count": 7,
     "metadata": {},
     "output_type": "execute_result"
    }
   ],
   "source": [
    "interact(plot_cluster, part=IntSlider(min=0, max=50, step=1, value=0), step=IntSlider(min=0, max=3, step=1, value=0))"
   ]
  },
  {
   "cell_type": "code",
   "execution_count": null,
   "metadata": {},
   "outputs": [],
   "source": []
  }
 ],
 "metadata": {
  "kernelspec": {
   "display_name": "Python 3",
   "language": "python",
   "name": "python3"
  },
  "language_info": {
   "codemirror_mode": {
    "name": "ipython",
    "version": 3
   },
   "file_extension": ".py",
   "mimetype": "text/x-python",
   "name": "python",
   "nbconvert_exporter": "python",
   "pygments_lexer": "ipython3",
   "version": "3.6.2"
  }
 },
 "nbformat": 4,
 "nbformat_minor": 2
}
